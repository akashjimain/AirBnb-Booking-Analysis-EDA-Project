{
  "nbformat": 4,
  "nbformat_minor": 0,
  "metadata": {
    "colab": {
      "private_outputs": true,
      "provenance": [],
      "collapsed_sections": [
        "448CDAPjqfQr",
        "t6dVpIINYklI",
        "ijmpgYnKYklI",
        "-JiQyfWJYklI",
        "EM7whBJCYoAo",
        "fge-S5ZAYoAp",
        "85gYPyotYoAp",
        "RoGjAbkUYoAp",
        "4Of9eVA-YrdM",
        "iky9q4vBYrdO",
        "F6T5p64dYrdO",
        "y-Ehk30pYrdP",
        "bamQiAODYuh1",
        "QHF8YVU7Yuh3",
        "GwzvFGzlYuh3",
        "qYpmQ266Yuh3",
        "bbFf2-_FphqN",
        "_ouA3fa0phqN",
        "Seke61FWphqN",
        "t27r6nlMphqO",
        "r2jJGEOYphqO",
        "b0JNsNcRphqO",
        "jj7wYXLtphqO",
        "eZrbJ2SmphqO",
        "rFu4xreNphqO",
        "gCFgpxoyphqP",
        "OVtJsKN_phqQ",
        "lssrdh5qphqQ",
        "JMzcOPDDphqR",
        "X_VqEhTip1ck",
        "8zGJKyg5p1ck",
        "PVzmfK_Ep1ck",
        "ylSl6qgtp1ck",
        "ZWILFDl5p1ck",
        "M7G43BXep1ck",
        "Ag9LCva-p1cl",
        "E6MkPsBcp1cl",
        "2cELzS2fp1cl",
        "3MPXvC8up1cl",
        "gIfDvo9L0UH2"
      ],
      "include_colab_link": true
    },
    "kernelspec": {
      "name": "python3",
      "display_name": "Python 3"
    },
    "language_info": {
      "name": "python"
    }
  },
  "cells": [
    {
      "cell_type": "markdown",
      "metadata": {
        "id": "view-in-github",
        "colab_type": "text"
      },
      "source": [
        "<a href=\"https://colab.research.google.com/github/akashjimain/AirBnb-Booking-Analysis-EDA-Project/blob/main/AirBnb_Booking_Analysis_EDA_Submission_.ipynb\" target=\"_parent\"><img src=\"https://colab.research.google.com/assets/colab-badge.svg\" alt=\"Open In Colab\"/></a>"
      ]
    },
    {
      "cell_type": "markdown",
      "source": [
        "# **Project Name**    - AirBnb Booking Analysis\n",
        "\n"
      ],
      "metadata": {
        "id": "vncDsAP0Gaoa"
      }
    },
    {
      "cell_type": "markdown",
      "source": [
        "##### **Project Type**    - EDA\n",
        "##### **Contribution**    - Individual\n",
        "##### **Team Member 1 -** Akash Tiwari\n"
      ],
      "metadata": {
        "id": "beRrZCGUAJYm"
      }
    },
    {
      "cell_type": "markdown",
      "source": [
        "# **Project Summary -**"
      ],
      "metadata": {
        "id": "FJNUwmbgGyua"
      }
    },
    {
      "cell_type": "markdown",
      "source": [
        "**Since 2008, guests and hosts have used Airbnb to expand on traveling possibilities and present a more unique, personalized way of experiencing the world. Today, Airbnb became one of a kind service that is used and recognized by the whole world. Data analysis on millions of listings provided through Airbnb is a crucial factor for the company. These millions of listings generate a lot of data - data that can be analyzed and used for security, business decisions, understanding of customers' and providers' (hosts) behavior and performance on the platform, guiding marketing initiatives, implementation of innovative additional services and much more.\n",
        "This dataset has around 49,000 observations in it with 16 columns and it is a mix between categorical and numeric values.**\n"
      ],
      "metadata": {
        "id": "F6v_1wHtG2nS"
      }
    },
    {
      "cell_type": "markdown",
      "source": [
        "# **GitHub Link -**"
      ],
      "metadata": {
        "id": "w6K7xa23Elo4"
      }
    },
    {
      "cell_type": "markdown",
      "source": [
        "https://github.com/akashjimain/AirBnb-Booking-Analysis-EDA-Project"
      ],
      "metadata": {
        "id": "h1o69JH3Eqqn"
      }
    },
    {
      "cell_type": "markdown",
      "source": [
        "# **Problem Statement**\n"
      ],
      "metadata": {
        "id": "yQaldy8SH6Dl"
      }
    },
    {
      "cell_type": "markdown",
      "source": [
        "# **Explore and analyze the data to discover key understandings (not limited to these) such as :**\n",
        "\n",
        "\n",
        "*   What can we learn about different hosts and areas?\n",
        "*   What can we learn from predictions? (ex: locations, prices, reviews, etc)\n",
        "\n",
        "*   Which hosts are the busiest and why?\n",
        "*   Is there any noticeable difference of traffic among different areas and what could be the reason for it?\n",
        "\n",
        "\n",
        "\n",
        "\n"
      ],
      "metadata": {
        "id": "DpeJGUA3kjGy"
      }
    },
    {
      "cell_type": "markdown",
      "source": [
        "#### **Define Your Business Objective?**"
      ],
      "metadata": {
        "id": "PH-0ReGfmX4f"
      }
    },
    {
      "cell_type": "markdown",
      "source": [
        "The goal of data exploration is to learn about characteristics and potential problems of a data set without the need to formulate assumptions about the data beforehand. In statistics, data exploration is often referred to as “exploratory data analysis” and contrasts traditional hypothesis testing.\n",
        "\n",
        "It can help with the detection of obvious errors, a better comprehension of data patterns, the detection of outliers or unexpected events, and the discovery of interesting correlations between variables.\n",
        "\n",
        "Data Science technologies are at the core of identifying drivers of trust to engage more users and find out novel ways on how to alleviate trust. Data science technology is the key differentiator for the rapid growth of AirBnB and how it is able to make better recommendations by matching the right people together."
      ],
      "metadata": {
        "id": "PhDvGCAqmjP1"
      }
    },
    {
      "cell_type": "markdown",
      "source": [
        "# **General Guidelines** : -  "
      ],
      "metadata": {
        "id": "mDgbUHAGgjLW"
      }
    },
    {
      "cell_type": "markdown",
      "source": [
        "1.   Well-structured, formatted, and commented code is required.\n",
        "2.   Exception Handling, Production Grade Code & Deployment Ready Code will be a plus. Those students will be awarded some additional credits.\n",
        "     \n",
        "     The additional credits will have advantages over other students during Star Student selection.\n",
        "       \n",
        "             [ Note: - Deployment Ready Code is defined as, the whole .ipynb notebook should be executable in one go\n",
        "                       without a single error logged. ]\n",
        "\n",
        "3.   Each and every logic should have proper comments.\n",
        "4. You may add as many number of charts you want. Make Sure for each and every chart the following format should be answered.\n",
        "        \n",
        "\n",
        "```\n",
        "# Chart visualization code\n",
        "```\n",
        "            \n",
        "\n",
        "*   Why did you pick the specific chart?\n",
        "*   What is/are the insight(s) found from the chart?\n",
        "* Will the gained insights help creating a positive business impact?\n",
        "Are there any insights that lead to negative growth? Justify with specific reason.\n",
        "\n",
        "5. You have to create at least 20 logical & meaningful charts having important insights.\n",
        "\n",
        "\n",
        "[ Hints : - Do the Vizualization in  a structured way while following \"UBM\" Rule.\n",
        "\n",
        "U - Univariate Analysis,\n",
        "\n",
        "B - Bivariate Analysis (Numerical - Categorical, Numerical - Numerical, Categorical - Categorical)\n",
        "\n",
        "M - Multivariate Analysis\n",
        " ]\n",
        "\n",
        "\n",
        "\n"
      ],
      "metadata": {
        "id": "ZrxVaUj-hHfC"
      }
    },
    {
      "cell_type": "markdown",
      "source": [
        "# ***Let's Begin !***"
      ],
      "metadata": {
        "id": "O_i_v8NEhb9l"
      }
    },
    {
      "cell_type": "markdown",
      "source": [
        "## ***1. Know Your Data***"
      ],
      "metadata": {
        "id": "HhfV-JJviCcP"
      }
    },
    {
      "cell_type": "markdown",
      "source": [
        "### Import Libraries"
      ],
      "metadata": {
        "id": "Y3lxredqlCYt"
      }
    },
    {
      "cell_type": "code",
      "source": [
        "# Import Libraries\n",
        "import pandas as pd\n",
        "import numpy as np\n",
        "import seaborn as sns\n",
        "import matplotlib.pyplot as plt\n",
        "%matplotlib inline\n",
        "import plotly\n",
        "import missingno as msno\n",
        "from wordcloud import WordCloud, ImageColorGenerator"
      ],
      "metadata": {
        "id": "M8Vqi-pPk-HR"
      },
      "execution_count": null,
      "outputs": []
    },
    {
      "cell_type": "markdown",
      "source": [
        "### Dataset Loading"
      ],
      "metadata": {
        "id": "3RnN4peoiCZX"
      }
    },
    {
      "cell_type": "code",
      "source": [
        "# Load Dataset\n",
        "\n",
        "from google.colab import drive\n",
        "drive.mount('/content/drive')"
      ],
      "metadata": {
        "id": "NNYwla2-KDns"
      },
      "execution_count": null,
      "outputs": []
    },
    {
      "cell_type": "code",
      "source": [
        "# Give path to access data\n",
        "\n",
        "path= '/content/drive/MyDrive/Airbnb NYC 2019.csv'"
      ],
      "metadata": {
        "id": "RObrB0YhKXNS"
      },
      "execution_count": null,
      "outputs": []
    },
    {
      "cell_type": "code",
      "source": [
        "# Read files using pandas module.\n",
        "airbnb = pd.read_csv(path)"
      ],
      "metadata": {
        "id": "JWkJ2X5uLPrS"
      },
      "execution_count": null,
      "outputs": []
    },
    {
      "cell_type": "markdown",
      "source": [
        "### Dataset First View"
      ],
      "metadata": {
        "id": "x71ZqKXriCWQ"
      }
    },
    {
      "cell_type": "code",
      "source": [
        "# Dataset First Look\n",
        "airbnb.head()"
      ],
      "metadata": {
        "id": "LWNFOSvLl09H"
      },
      "execution_count": null,
      "outputs": []
    },
    {
      "cell_type": "code",
      "source": [
        "# Read The Last five Rows\n",
        "airbnb.tail()"
      ],
      "metadata": {
        "id": "X267cvRdM40h"
      },
      "execution_count": null,
      "outputs": []
    },
    {
      "cell_type": "markdown",
      "source": [
        "### Dataset Rows & Columns count"
      ],
      "metadata": {
        "id": "7hBIi_osiCS2"
      }
    },
    {
      "cell_type": "code",
      "source": [
        "# Dataset Rows & Columns count\n",
        "airbnb.shape"
      ],
      "metadata": {
        "id": "Kllu7SJgmLij"
      },
      "execution_count": null,
      "outputs": []
    },
    {
      "cell_type": "markdown",
      "source": [
        "### Dataset Information"
      ],
      "metadata": {
        "id": "JlHwYmJAmNHm"
      }
    },
    {
      "cell_type": "code",
      "source": [
        "# Dataset Info\n",
        "airbnb.info"
      ],
      "metadata": {
        "id": "e9hRXRi6meOf"
      },
      "execution_count": null,
      "outputs": []
    },
    {
      "cell_type": "code",
      "source": [
        "# Dataset Columns\n",
        "airbnb.columns"
      ],
      "metadata": {
        "id": "wTyPF0FBApmr"
      },
      "execution_count": null,
      "outputs": []
    },
    {
      "cell_type": "code",
      "source": [
        "# Dataset Describe\n",
        "airbnb.describe(include = 'all')"
      ],
      "metadata": {
        "id": "3egPz1TkC1Mh"
      },
      "execution_count": null,
      "outputs": []
    },
    {
      "cell_type": "markdown",
      "source": [
        "#### Duplicate Values"
      ],
      "metadata": {
        "id": "35m5QtbWiB9F"
      }
    },
    {
      "cell_type": "code",
      "source": [
        "# Dataset Duplicate Value Count\n",
        "len(airbnb[airbnb.duplicated()])"
      ],
      "metadata": {
        "id": "1sLdpKYkmox0"
      },
      "execution_count": null,
      "outputs": []
    },
    {
      "cell_type": "markdown",
      "source": [
        "#### Missing Values/Null Values"
      ],
      "metadata": {
        "id": "PoPl-ycgm1ru"
      }
    },
    {
      "cell_type": "code",
      "source": [
        "# Missing Values/Null Values Count\n",
        "print(airbnb.isnull().sum())"
      ],
      "metadata": {
        "id": "GgHWkxvamxVg"
      },
      "execution_count": null,
      "outputs": []
    },
    {
      "cell_type": "code",
      "source": [
        "# Visualizing the missing values\n",
        "# The matrix below shows the nan values in each of the feature of the data\n",
        "# The horizontal white line in each columns represents the nan value\n",
        "# The column of reviews_per_month contains the most nan values\n",
        "\n",
        "msno.matrix(airbnb)\n",
        "\n"
      ],
      "metadata": {
        "id": "3q5wnI3om9sJ"
      },
      "execution_count": null,
      "outputs": []
    },
    {
      "cell_type": "markdown",
      "source": [
        "### Data Cleaning"
      ],
      "metadata": {
        "id": "-zZVtHqXb9zd"
      }
    },
    {
      "cell_type": "code",
      "source": [
        "# Here we will delete unnecessary column like id ,name , host_name, last_review,\n",
        "airbnb.drop(['id','host_name','last_review'],axis=1,inplace=True)\n",
        "airbnb.head()"
      ],
      "metadata": {
        "id": "Eu94v4PdcCiR"
      },
      "execution_count": null,
      "outputs": []
    },
    {
      "cell_type": "markdown",
      "source": [
        "### What did you know about your dataset?"
      ],
      "metadata": {
        "id": "H0kj-8xxnORC"
      }
    },
    {
      "cell_type": "markdown",
      "source": [
        "The column of reviews_per_month contains the most nan values"
      ],
      "metadata": {
        "id": "lohumV40Kndl"
      }
    },
    {
      "cell_type": "markdown",
      "source": [
        "### Handling missing and NaN values in review_per_month"
      ],
      "metadata": {
        "id": "_x6nxiKhKgTo"
      }
    },
    {
      "cell_type": "code",
      "source": [
        "# Here we will replace all missing values in 'reviews-per_month'with zero and name with 'absant'.\n",
        "airbnb['reviews_per_month'].fillna(0,inplace=True)\n",
        "airbnb['name'].fillna('Absant',inplace=True)\n",
        "airbnb"
      ],
      "metadata": {
        "id": "9fmCrvRMLGy_"
      },
      "execution_count": null,
      "outputs": []
    },
    {
      "cell_type": "code",
      "source": [
        "# let us check is there any missing value remain in our data.\n",
        "airbnb.isnull().any()\n",
        "# 'False' for every category means no missing values."
      ],
      "metadata": {
        "id": "YIX5VybPLXok"
      },
      "execution_count": null,
      "outputs": []
    },
    {
      "cell_type": "code",
      "source": [
        "# let us check shape of our dataframe now.\n",
        "airbnb.shape"
      ],
      "metadata": {
        "id": "g9ise-G7L8_y"
      },
      "execution_count": null,
      "outputs": []
    },
    {
      "cell_type": "markdown",
      "source": [
        "## ***2. Understanding Your Variables***"
      ],
      "metadata": {
        "id": "nA9Y7ga8ng1Z"
      }
    },
    {
      "cell_type": "code",
      "source": [
        "# Dataset Columns\n",
        "airbnb.columns"
      ],
      "metadata": {
        "id": "j7xfkqrt5Ag5"
      },
      "execution_count": null,
      "outputs": []
    },
    {
      "cell_type": "code",
      "source": [
        "# Dataset Describe\n",
        "airbnb.describe(include = 'all')"
      ],
      "metadata": {
        "id": "DnOaZdaE5Q5t"
      },
      "execution_count": null,
      "outputs": []
    },
    {
      "cell_type": "markdown",
      "source": [
        "### Variables Description"
      ],
      "metadata": {
        "id": "PBTbrJXOngz2"
      }
    },
    {
      "cell_type": "markdown",
      "source": [
        "\n",
        "\n",
        "*   **id :**Unique ID\n",
        "*   **name :**Name of listing\n",
        "\n",
        "*   **host_id :**Unique host_id\n",
        "\n",
        "*   **host_name :**Name of the host\n",
        "\n",
        "*   **neighbourhood_group :**location\n",
        "\n",
        "*   **neighbourhood :**area\n",
        "*   **latitude :**Latitude range\n",
        "* **longitude :**Longitude range\n",
        "\n",
        "*   **room_type :**Type of listing\n",
        "\n",
        "\n",
        "*   **price :**Price of listing\n",
        "\n",
        "*   **minimum_nights :**Minimum nights to be paid for\n",
        "*   **number_of_reviews :**Number of reviews\n",
        "\n",
        "*   **last_review :**Content of the last review\n",
        "*   **reviews_per_month :**Number of checks per month\n",
        "\n",
        "*   **calculated_host_listings_count :**Total count\n",
        "*   **availability_365 :**Availability around the year\n",
        "\n",
        "\n",
        "\n",
        "\n",
        "\n",
        "\n",
        "\n"
      ],
      "metadata": {
        "id": "aJV4KIxSnxay"
      }
    },
    {
      "cell_type": "markdown",
      "source": [
        "### Check Unique Values for each variable."
      ],
      "metadata": {
        "id": "u3PMJOP6ngxN"
      }
    },
    {
      "cell_type": "code",
      "source": [
        "# Check Unique Values for each variable.\n",
        "for i in airbnb.columns.tolist():\n",
        "  print(\"No. of unique values in \",i,\"is\",airbnb[i].nunique(),\".\")"
      ],
      "metadata": {
        "id": "zms12Yq5n-jE"
      },
      "execution_count": null,
      "outputs": []
    },
    {
      "cell_type": "markdown",
      "source": [
        "## 3. ***Data Wrangling***"
      ],
      "metadata": {
        "id": "dauF4eBmngu3"
      }
    },
    {
      "cell_type": "markdown",
      "source": [
        "### Data Wrangling Code"
      ],
      "metadata": {
        "id": "bKJF3rekwFvQ"
      }
    },
    {
      "cell_type": "code",
      "source": [
        "# Write your code to make your dataset analysis ready.\n",
        "# Let us find unique areas in data using 'neighbourhood'column.\n",
        "airbnb.neighbourhood.unique()\n"
      ],
      "metadata": {
        "id": "wk-9a2fpoLcV"
      },
      "execution_count": null,
      "outputs": []
    },
    {
      "cell_type": "code",
      "source": [
        "# Let us find total count of areas (neighbourhood)  in dataset\n",
        "len(airbnb.neighbourhood.unique())"
      ],
      "metadata": {
        "id": "vEYO6dFKvCoY"
      },
      "execution_count": null,
      "outputs": []
    },
    {
      "cell_type": "code",
      "source": [
        "# Let us first find total number of hosts in dataset\n",
        "Number_of_hosts=airbnb.host_id.unique()\n",
        "Number_of_hosts"
      ],
      "metadata": {
        "id": "Sv3s_BXIvV8i"
      },
      "execution_count": null,
      "outputs": []
    },
    {
      "cell_type": "code",
      "source": [
        "len(Number_of_hosts)"
      ],
      "metadata": {
        "id": "1FaZWW-lvkqW"
      },
      "execution_count": null,
      "outputs": []
    },
    {
      "cell_type": "code",
      "source": [
        "top_host_id = airbnb['host_id'].value_counts().head(10)\n",
        "top_host_id"
      ],
      "metadata": {
        "id": "GM1gl-vvvsVk"
      },
      "execution_count": null,
      "outputs": []
    },
    {
      "cell_type": "code",
      "source": [
        "top_host_df=pd.DataFrame(top_host_id)\n",
        "top_host_df.reset_index(inplace=True)\n",
        "top_host_df.rename(columns={'index':'Host_ID', 'host_id':'P_Count'}, inplace=True)\n",
        "top_host_df"
      ],
      "metadata": {
        "id": "gPmS4k8At9AZ"
      },
      "execution_count": null,
      "outputs": []
    },
    {
      "cell_type": "code",
      "source": [
        "top_host_id.sum()"
      ],
      "metadata": {
        "id": "15LOPZW2v3j_"
      },
      "execution_count": null,
      "outputs": []
    },
    {
      "cell_type": "code",
      "source": [
        "# Let us find topmost location which has maximum nuber of listings in given data.\n",
        "airbnb.neighbourhood_group.unique()"
      ],
      "metadata": {
        "id": "ScF9dVAJEFAL"
      },
      "execution_count": null,
      "outputs": []
    },
    {
      "cell_type": "code",
      "source": [
        "locations = airbnb['neighbourhood_group'].value_counts()\n",
        "locations"
      ],
      "metadata": {
        "id": "kFj-x0_kEIPx"
      },
      "execution_count": null,
      "outputs": []
    },
    {
      "cell_type": "code",
      "source": [
        "len(locations)"
      ],
      "metadata": {
        "id": "jXldQtTcERHg"
      },
      "execution_count": null,
      "outputs": []
    },
    {
      "cell_type": "code",
      "source": [
        "# let us find relation between location i.e.neighbourhood_group and price.\n",
        "price_vs_location = airbnb.groupby(['neighbourhood_group'])['price'].mean()\n",
        "price_vs_location"
      ],
      "metadata": {
        "id": "_AbZdUaWE2Ga"
      },
      "execution_count": null,
      "outputs": []
    },
    {
      "cell_type": "code",
      "source": [
        "# Let us find top 10 most reviewed listings based on number of reviews per month.\n",
        "most_reviewed_listings=airbnb.nlargest(10,'number_of_reviews')\n",
        "most_reviewed_listings"
      ],
      "metadata": {
        "id": "RZgYYlkUFqER"
      },
      "execution_count": null,
      "outputs": []
    },
    {
      "cell_type": "code",
      "source": [
        "reviewed_per_listings= airbnb.filter(['neighbourhood_group','number_of_reviews'])\n",
        "reviewed_per_listings"
      ],
      "metadata": {
        "id": "kc5Il5X6GC4H"
      },
      "execution_count": null,
      "outputs": []
    },
    {
      "cell_type": "code",
      "source": [
        "top_reviewed_listings=reviewed_per_listings.nlargest(10,'number_of_reviews')\n",
        "top_reviewed_listings"
      ],
      "metadata": {
        "id": "iMWUGC8oGKsu"
      },
      "execution_count": null,
      "outputs": []
    },
    {
      "cell_type": "code",
      "source": [
        "# Let us find the busiest host using host_id and minimum nights column in our dataset.\n",
        "Busy_host=airbnb.groupby(['host_id']).minimum_nights.mean()\n",
        "Busy_host=Busy_host.sort_values(ascending=True)\n",
        "Busy_host"
      ],
      "metadata": {
        "id": "qlj5T0WCGQ45"
      },
      "execution_count": null,
      "outputs": []
    },
    {
      "cell_type": "code",
      "source": [
        "# Let us find top 10 busy hosts.\n",
        "Top_busy_hosts=Busy_host.tail(10)\n",
        "Top_busy_hosts"
      ],
      "metadata": {
        "id": "8Zv8xHRIGTXO"
      },
      "execution_count": null,
      "outputs": []
    },
    {
      "cell_type": "code",
      "source": [
        "#let's find out more about our neiberhoods presented 'Brooklyn', 'Manhattan', 'Queens', 'Staten Island', and 'Bronx'\n",
        "\n",
        "#Brooklyn\n",
        "sub_1=airbnb.loc[airbnb['neighbourhood_group'] == 'Brooklyn']\n",
        "price_sub1=sub_1[['price']]\n",
        "#Manhattan\n",
        "sub_2=airbnb.loc[airbnb['neighbourhood_group'] == 'Manhattan']\n",
        "price_sub2=sub_2[['price']]\n",
        "#Queens\n",
        "sub_3=airbnb.loc[airbnb['neighbourhood_group'] == 'Queens']\n",
        "price_sub3=sub_3[['price']]\n",
        "#Staten Island\n",
        "sub_4=airbnb.loc[airbnb['neighbourhood_group'] == 'Staten Island']\n",
        "price_sub4=sub_4[['price']]\n",
        "#Bronx\n",
        "sub_5=airbnb.loc[airbnb['neighbourhood_group'] == 'Bronx']\n",
        "price_sub5=sub_5[['price']]\n",
        "#putting all the prices' dfs in the list\n",
        "price_list_by_n=[price_sub1, price_sub2, price_sub3, price_sub4, price_sub5]"
      ],
      "metadata": {
        "id": "Gwr1WbHp1bg-"
      },
      "execution_count": null,
      "outputs": []
    },
    {
      "cell_type": "code",
      "source": [
        "#creating an empty list that we will append later with price distributions for each neighbourhood_group\n",
        "p_l_b_n_2=[]\n",
        "#creating list with known values in neighbourhood_group column\n",
        "nei_list=['Brooklyn', 'Manhattan', 'Queens', 'Staten Island', 'Bronx']\n",
        "#creating a for loop to get statistics for price ranges and append it to our empty list\n",
        "for x in price_list_by_n:\n",
        "    i=x.describe(percentiles=[.25, .50, .75])\n",
        "    i=i.iloc[3:]\n",
        "    i.reset_index(inplace=True)\n",
        "    i.rename(columns={'index':'Stats'}, inplace=True)\n",
        "    p_l_b_n_2.append(i)\n",
        "#changing names of the price column to the area name for easier reading of the table\n",
        "p_l_b_n_2[0].rename(columns={'price':nei_list[0]}, inplace=True)\n",
        "p_l_b_n_2[1].rename(columns={'price':nei_list[1]}, inplace=True)\n",
        "p_l_b_n_2[2].rename(columns={'price':nei_list[2]}, inplace=True)\n",
        "p_l_b_n_2[3].rename(columns={'price':nei_list[3]}, inplace=True)\n",
        "p_l_b_n_2[4].rename(columns={'price':nei_list[4]}, inplace=True)\n",
        "#finilizing our dataframe for final view\n",
        "stat_df=p_l_b_n_2\n",
        "stat_df=[df.set_index('Stats') for df in stat_df]\n",
        "stat_df=stat_df[0].join(stat_df[1:])\n",
        "stat_df"
      ],
      "metadata": {
        "id": "uWvDCoUU1jq-"
      },
      "execution_count": null,
      "outputs": []
    },
    {
      "cell_type": "code",
      "source": [
        "# room_type in neighbourhood group\n",
        "room_type_var = airbnb.groupby(['neighbourhood_group','room_type'])['room_type'].count().unstack()\n",
        "room_type_var"
      ],
      "metadata": {
        "id": "6gaSuR8TiSmm"
      },
      "execution_count": null,
      "outputs": []
    },
    {
      "cell_type": "markdown",
      "source": [
        "### What all manipulations have you done and insights you found?"
      ],
      "metadata": {
        "id": "MSa1f5Uengrz"
      }
    },
    {
      "cell_type": "markdown",
      "source": [
        "Answer Here."
      ],
      "metadata": {
        "id": "LbyXE7I1olp8"
      }
    },
    {
      "cell_type": "markdown",
      "source": [
        "## ***4. Data Vizualization, Storytelling & Experimenting with charts : Understand the relationships between variables***"
      ],
      "metadata": {
        "id": "GF8Ens_Soomf"
      }
    },
    {
      "cell_type": "markdown",
      "source": [
        "#### Chart - 1"
      ],
      "metadata": {
        "id": "0wOQAZs5pc--"
      }
    },
    {
      "cell_type": "code",
      "source": [
        "# Chart - 1 visualization code\n",
        "# let us visualize  top_host_id using bar chart.\n",
        "viz_1=sns.barplot(x=\"Host_ID\", y=\"P_Count\", data=top_host_df,\n",
        "                 palette='Blues_d')\n",
        "viz_1.set_title('Hosts with the most listings in NYC')\n",
        "viz_1.set_ylabel('Count of listings')\n",
        "viz_1.set_xlabel('Host IDs')\n",
        "viz_1.set_xticklabels(viz_1.get_xticklabels(), rotation=45)"
      ],
      "metadata": {
        "id": "7v_ESjsspbW7"
      },
      "execution_count": null,
      "outputs": []
    },
    {
      "cell_type": "markdown",
      "source": [
        "##### 1. Why did you pick the specific chart?"
      ],
      "metadata": {
        "id": "K5QZ13OEpz2H"
      }
    },
    {
      "cell_type": "markdown",
      "source": [
        "Bar chart is the chart that you use one unit to describe a fixed value, then draw rectangular bars of corresponding length proportion based on values, and finally sequence them with an order. This chart presents the value of each category intuitively and visually for making a comparison of different categories."
      ],
      "metadata": {
        "id": "XESiWehPqBRc"
      }
    },
    {
      "cell_type": "markdown",
      "source": [
        "##### 2. What is/are the insight(s) found from the chart?"
      ],
      "metadata": {
        "id": "lQ7QKXXCp7Bj"
      }
    },
    {
      "cell_type": "markdown",
      "source": [
        "From above bar chart it is observed that host with host_id = 219517861 has 327 listings also hosts with host_id 12243051,16098958 have same number of listings."
      ],
      "metadata": {
        "id": "C_j1G7yiqdRP"
      }
    },
    {
      "cell_type": "markdown",
      "source": [
        "##### 3. Will the gained insights help creating a positive business impact?\n",
        "Are there any insights that lead to negative growth? Justify with specific reason."
      ],
      "metadata": {
        "id": "448CDAPjqfQr"
      }
    },
    {
      "cell_type": "markdown",
      "source": [
        "Answer here"
      ],
      "metadata": {
        "id": "3cspy4FjqxJW"
      }
    },
    {
      "cell_type": "markdown",
      "source": [
        "#### Chart - 2"
      ],
      "metadata": {
        "id": "KSlN3yHqYklG"
      }
    },
    {
      "cell_type": "code",
      "source": [
        "# Chart - 2 visualization code (Most expensive area)\n",
        "#we can see from our statistical table that we have some extreme values, therefore we need to remove them for the sake of a better visualization\n",
        "\n",
        "#creating a sub-dataframe with no extreme values / less than 500\n",
        "sub_6=airbnb[airbnb.price < 500]\n",
        "#using violinplot to showcase density and distribtuion of prices\n",
        "viz_2=sns.violinplot(data=sub_6, x='neighbourhood_group', y='price')\n",
        "viz_2.set_title('Density and distribution of prices for each neighberhood_group')"
      ],
      "metadata": {
        "id": "R4YgtaqtYklH"
      },
      "execution_count": null,
      "outputs": []
    },
    {
      "cell_type": "markdown",
      "source": [
        "##### 1. Why did you pick the specific chart?"
      ],
      "metadata": {
        "id": "t6dVpIINYklI"
      }
    },
    {
      "cell_type": "markdown",
      "source": [
        "Violin plots are used when you want to observe the distribution of numeric data, and are especially useful when you want to make a comparison of distributions between multiple groups. The peaks, valleys, and tails of each group's density curve can be compared to see where groups are similar or different."
      ],
      "metadata": {
        "id": "5aaW0BYyYklI"
      }
    },
    {
      "cell_type": "markdown",
      "source": [
        "##### 2. What is/are the insight(s) found from the chart?"
      ],
      "metadata": {
        "id": "ijmpgYnKYklI"
      }
    },
    {
      "cell_type": "markdown",
      "source": [
        "Great, with a statistical table and a violin plot we can definitely observe a couple of things about distribution of prices for Airbnb in NYC boroughs. First, we can state that Manhattan has the highest range of prices for the listings with $150 price as average observation, followed by Brooklyn with \\$90 per night. Queens and Staten Island appear to have very similar distributions, Bronx is the cheapest of them all. This distribution and density of prices were completely expected; for example, as it is no secret that Manhattan is one of the most expensive places in the world to live in, where Bronx on other hand appears to have lower standards of living."
      ],
      "metadata": {
        "id": "yP-X-BgN2Tjp"
      }
    },
    {
      "cell_type": "markdown",
      "source": [
        "##### 3. Will the gained insights help creating a positive business impact?\n",
        "Are there any insights that lead to negative growth? Justify with specific reason."
      ],
      "metadata": {
        "id": "-JiQyfWJYklI"
      }
    },
    {
      "cell_type": "markdown",
      "source": [
        "Answer Here"
      ],
      "metadata": {
        "id": "BcBbebzrYklV"
      }
    },
    {
      "cell_type": "markdown",
      "source": [
        "#### Chart - 3"
      ],
      "metadata": {
        "id": "EM7whBJCYoAo"
      }
    },
    {
      "cell_type": "code",
      "source": [
        "# Chart - 3 visualization code\n",
        "#Visualise number of listings  in different locations with help of pie chart.\n",
        "plt.style.use('fivethirtyeight')\n",
        "plt.figure(figsize=(13,7))\n",
        "g=plt.pie(airbnb.neighbourhood_group.value_counts(),labels=airbnb.neighbourhood_group.value_counts().index,autopct='%1.1f%%',startangle=180)\n",
        "plt.title=('neighbourhood group')\n",
        "plt.show()"
      ],
      "metadata": {
        "id": "t6GMdE67YoAp"
      },
      "execution_count": null,
      "outputs": []
    },
    {
      "cell_type": "markdown",
      "source": [
        "##### 1. Why did you pick the specific chart?"
      ],
      "metadata": {
        "id": "fge-S5ZAYoAp"
      }
    },
    {
      "cell_type": "markdown",
      "source": [
        "A pie chart expresses a part-to-whole relationship in your data. It's easy to explain the percentage comparison through area covered in a circle with different colors. Where differenet percentage comparison comes into action pie chart is used frequently. So, I used Pie chart and which helped me to get the percentage comparision of the dependant variable."
      ],
      "metadata": {
        "id": "5dBItgRVYoAp"
      }
    },
    {
      "cell_type": "markdown",
      "source": [
        "##### 2. What is/are the insight(s) found from the chart?"
      ],
      "metadata": {
        "id": "85gYPyotYoAp"
      }
    },
    {
      "cell_type": "markdown",
      "source": [
        "from above pie chart it is observed that maximum number of listings in NewYark are found in 'Manhatten(44.3%) of total listings"
      ],
      "metadata": {
        "id": "4jstXR6OYoAp"
      }
    },
    {
      "cell_type": "markdown",
      "source": [
        "##### 3. Will the gained insights help creating a positive business impact?\n",
        "Are there any insights that lead to negative growth? Justify with specific reason."
      ],
      "metadata": {
        "id": "RoGjAbkUYoAp"
      }
    },
    {
      "cell_type": "markdown",
      "source": [
        "Answer Here"
      ],
      "metadata": {
        "id": "zfJ8IqMcYoAp"
      }
    },
    {
      "cell_type": "markdown",
      "source": [
        "#### Chart - 4"
      ],
      "metadata": {
        "id": "4Of9eVA-YrdM"
      }
    },
    {
      "cell_type": "code",
      "source": [
        "# Chart - 4 visualization code\n",
        "# Let us visualise price_vs_location .\n",
        "ax= price_vs_location.plot.bar(figsize=(10,5),fontsize=14)\n",
        "ax.set_title('price per different location',fontsize=20)\n",
        "ax.set_xlabel('neighbourhood',fontsize=15)\n",
        "ax.set_ylabel('price',fontsize=15)"
      ],
      "metadata": {
        "id": "irlUoxc8YrdO"
      },
      "execution_count": null,
      "outputs": []
    },
    {
      "cell_type": "markdown",
      "source": [
        "##### 1. Why did you pick the specific chart?"
      ],
      "metadata": {
        "id": "iky9q4vBYrdO"
      }
    },
    {
      "cell_type": "markdown",
      "source": [
        "Bar chart is the chart that you use one unit to describe a fixed value, then draw rectangular bars of corresponding length proportion based on values, and finally sequence them with an order. This chart presents the value of each category intuitively and visually for making a comparison of different categories."
      ],
      "metadata": {
        "id": "aJRCwT6DYrdO"
      }
    },
    {
      "cell_type": "markdown",
      "source": [
        "##### 2. What is/are the insight(s) found from the chart?"
      ],
      "metadata": {
        "id": "F6T5p64dYrdO"
      }
    },
    {
      "cell_type": "markdown",
      "source": [
        "From above plot it is observed that Manhattan is most expensive location in given dataset"
      ],
      "metadata": {
        "id": "Xx8WAJvtYrdO"
      }
    },
    {
      "cell_type": "markdown",
      "source": [
        "##### 3. Will the gained insights help creating a positive business impact?\n",
        "Are there any insights that lead to negative growth? Justify with specific reason."
      ],
      "metadata": {
        "id": "y-Ehk30pYrdP"
      }
    },
    {
      "cell_type": "markdown",
      "source": [
        "Answer Here"
      ],
      "metadata": {
        "id": "jLNxxz7MYrdP"
      }
    },
    {
      "cell_type": "markdown",
      "source": [
        "#### Chart - 5"
      ],
      "metadata": {
        "id": "bamQiAODYuh1"
      }
    },
    {
      "cell_type": "code",
      "source": [
        "# Chart - 5 visualization code\n",
        "# Let us visualise top 10 busy hosts to find busiest host using bar plot.\n",
        "plt.rcParams['figure.figsize']=(10,5)\n",
        "ax = Top_busy_hosts.plot(kind='bar')\n",
        "ax.set_title('Top_busy_host')\n",
        "ax.set_ylabel('minimum_nights')\n",
        "ax.set_xlabel('host_id')\n",
        "plt.show"
      ],
      "metadata": {
        "id": "TIJwrbroYuh3"
      },
      "execution_count": null,
      "outputs": []
    },
    {
      "cell_type": "markdown",
      "source": [
        "##### 1. Why did you pick the specific chart?"
      ],
      "metadata": {
        "id": "QHF8YVU7Yuh3"
      }
    },
    {
      "cell_type": "markdown",
      "source": [
        "Bar chart is the chart that you use one unit to describe a fixed value, then draw rectangular bars of corresponding length proportion based on values, and finally sequence them with an order. This chart presents the value of each category intuitively and visually for making a comparison of different categories."
      ],
      "metadata": {
        "id": "dcxuIMRPYuh3"
      }
    },
    {
      "cell_type": "markdown",
      "source": [
        "##### 2. What is/are the insight(s) found from the chart?"
      ],
      "metadata": {
        "id": "GwzvFGzlYuh3"
      }
    },
    {
      "cell_type": "markdown",
      "source": [
        "From above bar plot it is observed that host with host_id 17550546 is busiest host in given dataset as number of minimum nights spend at listings belongs to host id 17550546 are more."
      ],
      "metadata": {
        "id": "uyqkiB8YYuh3"
      }
    },
    {
      "cell_type": "markdown",
      "source": [
        "##### 3. Will the gained insights help creating a positive business impact?\n",
        "Are there any insights that lead to negative growth? Justify with specific reason."
      ],
      "metadata": {
        "id": "qYpmQ266Yuh3"
      }
    },
    {
      "cell_type": "markdown",
      "source": [
        "Answer Here"
      ],
      "metadata": {
        "id": "_WtzZ_hCYuh4"
      }
    },
    {
      "cell_type": "markdown",
      "source": [
        "#### Chart - 6"
      ],
      "metadata": {
        "id": "OH-pJp9IphqM"
      }
    },
    {
      "cell_type": "code",
      "source": [
        "# Chart - 6 visualization code\n",
        "#let's now combine this with our boroughs and room type for a rich visualization we can make\n",
        "\n",
        "#grabbing top 10 neighbourhoods for sub-dataframe\n",
        "sub_7=airbnb.loc[airbnb['neighbourhood'].isin(['Williamsburg','Bedford-Stuyvesant','Harlem','Bushwick',\n",
        "                 'Upper West Side','Hell\\'s Kitchen','East Village','Upper East Side','Crown Heights','Midtown'])]\n",
        "#using catplot to represent multiple interesting attributes together and a count\n",
        "viz_3=sns.catplot(x='neighbourhood', hue='neighbourhood_group', col='room_type', data=sub_7, kind='count')\n",
        "viz_3.set_xticklabels(rotation=90)\n"
      ],
      "metadata": {
        "id": "kuRf4wtuphqN"
      },
      "execution_count": null,
      "outputs": []
    },
    {
      "cell_type": "markdown",
      "source": [
        "##### 1. Why did you pick the specific chart?"
      ],
      "metadata": {
        "id": "bbFf2-_FphqN"
      }
    },
    {
      "cell_type": "markdown",
      "source": [
        "This chart provides access to several axes-level functions that show the relationship between a numerical and one or more categorical variables using one of several visual representations."
      ],
      "metadata": {
        "id": "loh7H2nzphqN"
      }
    },
    {
      "cell_type": "markdown",
      "source": [
        "##### 2. What is/are the insight(s) found from the chart?"
      ],
      "metadata": {
        "id": "_ouA3fa0phqN"
      }
    },
    {
      "cell_type": "markdown",
      "source": [
        "Amazing, but let' breakdown on what we can see from this plot. First, we can see that our plot consists of 3 subplots - that is the power of using catplot; with such output, we can easily proceed with comparing distributions among interesting attributes. Y and X axes stay exactly the same for each subplot, Y-axis represents a count of observations and X-axis observations we want to count. However, there are 2 more important elements: column and hue; those 2 differentiate subplots. After we specify the column and determined hue we are able to observe and compare our Y and X axes among specified column as well as color-coded. So, what do we learn from this? The observation that is definitely contrasted the most is that 'Shared room' type Airbnb listing is barely available among 10 most listing-populated neighborhoods. Then, we can see that for these 10 neighborhoods only 2 boroughs are represented: Manhattan and Brooklyn; that was somewhat expected as Manhattan and Brooklyn are one of the most traveled destinations, therefore would have the most listing availability. We can also observe that Bedford-Stuyvesant and Williamsburg are the most popular for Manhattan borough, and Harlem for Brooklyn."
      ],
      "metadata": {
        "id": "VECbqPI7phqN"
      }
    },
    {
      "cell_type": "markdown",
      "source": [
        "##### 3. Will the gained insights help creating a positive business impact?\n",
        "Are there any insights that lead to negative growth? Justify with specific reason."
      ],
      "metadata": {
        "id": "Seke61FWphqN"
      }
    },
    {
      "cell_type": "markdown",
      "source": [
        "Answer Here"
      ],
      "metadata": {
        "id": "DW4_bGpfphqN"
      }
    },
    {
      "cell_type": "markdown",
      "source": [
        "#### Chart - 7"
      ],
      "metadata": {
        "id": "PIIx-8_IphqN"
      }
    },
    {
      "cell_type": "code",
      "source": [
        "# Chart - 7 visualization code\n",
        "#Let's look at listing distribution across latitude and longitude with different Neighbourhood group.\n",
        "lat = sns.scatterplot(x=airbnb.longitude, y=airbnb.latitude, hue=airbnb.neighbourhood_group, palette=\"husl\")\n",
        "\n",
        "lat.set_title('Latitudinal and longitudinal distribution of listings across neighbours', weight='bold', fontsize = 16)\n",
        "lat.set_xlabel('Longitude')\n",
        "lat.set_ylabel('Latitude')\n",
        "lat.legend(loc='upper left', title='Neighbourhood')"
      ],
      "metadata": {
        "id": "lqAIGUfyphqO"
      },
      "execution_count": null,
      "outputs": []
    },
    {
      "cell_type": "code",
      "source": [
        "#Room type distribution across latitude and longitudes\n",
        "rm = sns.scatterplot(x=airbnb.longitude, y=airbnb.latitude, hue=airbnb.room_type, palette=\"husl\")\n",
        "rm.set_title('Room type distribution across latitude and longitudes', weight='bold', fontsize = 16)\n",
        "rm.legend(loc='upper left', title='Room type')"
      ],
      "metadata": {
        "id": "mIASPOEDc-Om"
      },
      "execution_count": null,
      "outputs": []
    },
    {
      "cell_type": "markdown",
      "source": [
        "##### 1. Why did you pick the specific chart?"
      ],
      "metadata": {
        "id": "t27r6nlMphqO"
      }
    },
    {
      "cell_type": "markdown",
      "source": [
        "When the two variables in a scatter plot are geographical coordinates – latitude and longitude – we can overlay the points on a map to get a scatter map (aka dot map). This can be convenient when the geographic context is useful for drawing particular insights and can be combined with other third-variable encodings like point size and color."
      ],
      "metadata": {
        "id": "iv6ro40sphqO"
      }
    },
    {
      "cell_type": "markdown",
      "source": [
        "##### 2. What is/are the insight(s) found from the chart?"
      ],
      "metadata": {
        "id": "r2jJGEOYphqO"
      }
    },
    {
      "cell_type": "markdown",
      "source": [
        "\n",
        "\n",
        "*   It appears there are a few scattered listings across Queens and Staten Island. In contrast, Brooklyn and Manhattan have a crowded listing situation in their respective regions.\n",
        "*   In terms of the distribution of room types, we can see there is a good mix of different types available across the region. When compared with shared rooms, there is dominancy in private rooms and entire homes categories.\n",
        "\n"
      ],
      "metadata": {
        "id": "Po6ZPi4hphqO"
      }
    },
    {
      "cell_type": "markdown",
      "source": [
        "##### 3. Will the gained insights help creating a positive business impact?\n",
        "Are there any insights that lead to negative growth? Justify with specific reason."
      ],
      "metadata": {
        "id": "b0JNsNcRphqO"
      }
    },
    {
      "cell_type": "markdown",
      "source": [
        "Answer Here"
      ],
      "metadata": {
        "id": "xvSq8iUTphqO"
      }
    },
    {
      "cell_type": "markdown",
      "source": [
        "#### Chart - 8"
      ],
      "metadata": {
        "id": "BZR9WyysphqO"
      }
    },
    {
      "cell_type": "code",
      "source": [
        "# Chart - 8 visualization code\n",
        "# Different types of room distribution\n",
        "plt.style.use('fivethirtyeight')\n",
        "p = plt.pie(airbnb.room_type.value_counts(), labels= airbnb.room_type.value_counts().index, autopct='%1.1f%%')\n",
        "plt.title = (\"Listings of each room type\")\n",
        "plt.show()\n"
      ],
      "metadata": {
        "id": "TdPTWpAVphqO"
      },
      "execution_count": null,
      "outputs": []
    },
    {
      "cell_type": "code",
      "source": [
        "r = sns.catplot(data = airbnb, x='neighbourhood_group', hue='neighbourhood_group', col='room_type', palette='flare',kind=\"count\")\n",
        "r.set_xticklabels(rotation=90)\n",
        "sns.set(rc={'figure.figsize':(10,6)})\n",
        "sns.set(style=\"white\")"
      ],
      "metadata": {
        "id": "HVs4ujhFh3aQ"
      },
      "execution_count": null,
      "outputs": []
    },
    {
      "cell_type": "markdown",
      "source": [
        "##### 1. Why did you pick the specific chart?"
      ],
      "metadata": {
        "id": "jj7wYXLtphqO"
      }
    },
    {
      "cell_type": "markdown",
      "source": [
        "\n",
        "\n",
        "*   A pie chart expresses a part-to-whole relationship in your data. It's easy to explain the percentage comparison through area covered in a circle with different colors. Where differenet percentage comparison comes into action pie chart is used frequently. So, I used Pie chart and which helped me to get the percentage comparision of the dependant variable.\n",
        "*   This chart provides access to several axes-level functions that show the relationship between a numerical and one or more categorical variables using one of several visual representations.\n",
        "\n"
      ],
      "metadata": {
        "id": "Ob8u6rCTphqO"
      }
    },
    {
      "cell_type": "markdown",
      "source": [
        "##### 2. What is/are the insight(s) found from the chart?"
      ],
      "metadata": {
        "id": "eZrbJ2SmphqO"
      }
    },
    {
      "cell_type": "markdown",
      "source": [
        "There is a very clear percentage division of the three different room types across the region, with 'Entire home/apt' accounting for 52.3% of listings, and shared rooms representing just 2.2%."
      ],
      "metadata": {
        "id": "mZtgC_hjphqO"
      }
    },
    {
      "cell_type": "markdown",
      "source": [
        "##### 3. Will the gained insights help creating a positive business impact?\n",
        "Are there any insights that lead to negative growth? Justify with specific reason."
      ],
      "metadata": {
        "id": "rFu4xreNphqO"
      }
    },
    {
      "cell_type": "markdown",
      "source": [
        "Answer Here"
      ],
      "metadata": {
        "id": "ey_0qi68phqO"
      }
    },
    {
      "cell_type": "markdown",
      "source": [
        "#### Chart - 9"
      ],
      "metadata": {
        "id": "YJ55k-q6phqO"
      }
    },
    {
      "cell_type": "code",
      "source": [
        "# Chart - 9 visualization code\n",
        "# Analyzing the number of reviews and room availability with respect to price\n",
        "sns.relplot(x=airbnb.number_of_reviews, y=airbnb.price, hue=airbnb.neighbourhood_group, col=airbnb.neighbourhood_group, palette=\"flare\")\n",
        "sns.set(rc={'figure.figsize':(10,6)})\n",
        "sns.set(style=\"white\")"
      ],
      "metadata": {
        "id": "B2aS4O1ophqO"
      },
      "execution_count": null,
      "outputs": []
    },
    {
      "cell_type": "code",
      "source": [
        "# Let's have a more closer look, taking price range less than 400 dollars.\n",
        "sns.relplot(x=airbnb.number_of_reviews, y=airbnb.price, hue=airbnb.neighbourhood_group, col=airbnb.neighbourhood_group, palette=\"flare\")\n",
        "sns.set(rc={'figure.figsize':(10,6)})\n",
        "plt.ylim(0,400)\n",
        "sns.set(style=\"white\")"
      ],
      "metadata": {
        "id": "aytltwUHm3OY"
      },
      "execution_count": null,
      "outputs": []
    },
    {
      "cell_type": "code",
      "source": [
        "sns.relplot(x=airbnb.availability_365, y=airbnb.price, hue=airbnb.room_type, palette=\"husl\")\n",
        "sns.set(rc={'figure.figsize':(10,6)})\n",
        "sns.set(style=\"white\")"
      ],
      "metadata": {
        "id": "N7EVZHPZnV3g"
      },
      "execution_count": null,
      "outputs": []
    },
    {
      "cell_type": "markdown",
      "source": [
        "##### 1. Why did you pick the specific chart?"
      ],
      "metadata": {
        "id": "gCFgpxoyphqP"
      }
    },
    {
      "cell_type": "markdown",
      "source": [
        "This chart provides access to several different axes-level functions that show the relationship between two variables with semantic mappings of subsets and allows us to visualise how variables within a dataset relate to each other"
      ],
      "metadata": {
        "id": "TVxDimi2phqP"
      }
    },
    {
      "cell_type": "markdown",
      "source": [
        "##### 2. What is/are the insight(s) found from the chart?"
      ],
      "metadata": {
        "id": "OVtJsKN_phqQ"
      }
    },
    {
      "cell_type": "markdown",
      "source": [
        "\n",
        "\n",
        "*   From the first graph, we can see a negative relationship between price and the number of reviews. There are more reviews for properties with lower prices since they are booked more frequently.\n",
        "*   According to the second graph, the price of properties does not vary much in relation to their availability.\n",
        "\n"
      ],
      "metadata": {
        "id": "ngGi97qjphqQ"
      }
    },
    {
      "cell_type": "markdown",
      "source": [
        "##### 3. Will the gained insights help creating a positive business impact?\n",
        "Are there any insights that lead to negative growth? Justify with specific reason."
      ],
      "metadata": {
        "id": "lssrdh5qphqQ"
      }
    },
    {
      "cell_type": "markdown",
      "source": [
        "Answer Here"
      ],
      "metadata": {
        "id": "tBpY5ekJphqQ"
      }
    },
    {
      "cell_type": "markdown",
      "source": [
        "#### Chart - 10"
      ],
      "metadata": {
        "id": "U2RJ9gkRphqQ"
      }
    },
    {
      "cell_type": "code",
      "source": [
        "# Chart - 10 visualization code\n",
        "# Finding Relation between neighbourhood group and availability of rooms\n",
        "# Let us visualise relationship  between neighbourhood group and availability 365 using boxplot\n",
        "plt.figure (figsize= (10,10))\n",
        "ax= sns.boxplot(data=airbnb,x='neighbourhood_group',y='availability_365',palette='plasma')\n",
        "ax.set_title('Relation between Neighbourhood group & Availability of rooms').set_fontsize('15')\n"
      ],
      "metadata": {
        "id": "GM7a4YP4phqQ"
      },
      "execution_count": null,
      "outputs": []
    },
    {
      "cell_type": "markdown",
      "source": [
        "##### 1. Why did you pick the specific chart?"
      ],
      "metadata": {
        "id": "1M8mcRywphqQ"
      }
    },
    {
      "cell_type": "markdown",
      "source": [
        "Box plots are used to show distributions of numeric data values, especially when you want to compare them between multiple groups."
      ],
      "metadata": {
        "id": "8agQvks0phqQ"
      }
    },
    {
      "cell_type": "markdown",
      "source": [
        "##### 2. What is/are the insight(s) found from the chart?"
      ],
      "metadata": {
        "id": "tgIPom80phqQ"
      }
    },
    {
      "cell_type": "markdown",
      "source": [
        "\n",
        "\n",
        "*   We can see that costumers prefers Brooklyn over Manhattan due to reasonable\n",
        "price.\n",
        "\n",
        "*   Costumers only go for Queens when both Brooklyn and Manhattan are not available or are expensive.\n",
        "\n",
        "*   Costumers prefers to go for Stalen Island and Bronx only in later days of year.\n",
        "\n",
        "\n",
        "\n"
      ],
      "metadata": {
        "id": "Qp13pnNzphqQ"
      }
    },
    {
      "cell_type": "markdown",
      "source": [
        "##### 3. Will the gained insights help creating a positive business impact?\n",
        "Are there any insights that lead to negative growth? Justify with specific reason."
      ],
      "metadata": {
        "id": "JMzcOPDDphqR"
      }
    },
    {
      "cell_type": "markdown",
      "source": [
        "Answer Here"
      ],
      "metadata": {
        "id": "R4Ka1PC2phqR"
      }
    },
    {
      "cell_type": "markdown",
      "source": [
        "#### Chart - 11"
      ],
      "metadata": {
        "id": "x-EpHcCOp1ci"
      }
    },
    {
      "cell_type": "code",
      "source": [
        "# Chart - 11 visualization code\n",
        "# Frequency of listings with respect to the price\n",
        "sns.histplot(data=airbnb, x=\"price\").set_title('Frequency of listings with respect to the price')\n",
        "sns.set(rc={'figure.figsize':(10,6)})\n",
        "sns.set(style=\"white\")\n"
      ],
      "metadata": {
        "id": "mAQTIvtqp1cj"
      },
      "execution_count": null,
      "outputs": []
    },
    {
      "cell_type": "code",
      "source": [
        "price_range = airbnb[airbnb['price'] <= 1000]\n",
        "sns.histplot(data=price_range, x=\"price\", kde=True, bins = 80).set_title('Frequency of listings with respect to the price<=1000')\n",
        "sns.set(rc={'figure.figsize':(10,6)})\n",
        "sns.set(style=\"dark\")"
      ],
      "metadata": {
        "id": "VPjrVF7pue3q"
      },
      "execution_count": null,
      "outputs": []
    },
    {
      "cell_type": "markdown",
      "source": [
        "##### 1. Why did you pick the specific chart?"
      ],
      "metadata": {
        "id": "X_VqEhTip1ck"
      }
    },
    {
      "cell_type": "markdown",
      "source": [
        "A histogram is a traditional visualization tool that counts the number of data that fall into discrete bins to illustrate the distribution of one or more variables. This function can add a smooth curve derived using a kernel density estimate to the statistic computed within each bin to estimate frequency, density, or probability mass."
      ],
      "metadata": {
        "id": "-vsMzt_np1ck"
      }
    },
    {
      "cell_type": "markdown",
      "source": [
        "##### 2. What is/are the insight(s) found from the chart?"
      ],
      "metadata": {
        "id": "8zGJKyg5p1ck"
      }
    },
    {
      "cell_type": "markdown",
      "source": [
        "By using the histogram, we can now see how prices are distributed. We have a large number of values concentrated below 200 dollars."
      ],
      "metadata": {
        "id": "ZYdMsrqVp1ck"
      }
    },
    {
      "cell_type": "markdown",
      "source": [
        "##### 3. Will the gained insights help creating a positive business impact?\n",
        "Are there any insights that lead to negative growth? Justify with specific reason."
      ],
      "metadata": {
        "id": "PVzmfK_Ep1ck"
      }
    },
    {
      "cell_type": "markdown",
      "source": [
        "Answer Here"
      ],
      "metadata": {
        "id": "druuKYZpp1ck"
      }
    },
    {
      "cell_type": "markdown",
      "source": [
        "#### Chart - 12"
      ],
      "metadata": {
        "id": "n3dbpmDWp1ck"
      }
    },
    {
      "cell_type": "code",
      "source": [
        "# Chart - 12 visualization code\n",
        "# Frequency of listings with respect to the minimum number of nights\n",
        "sns.histplot(data=airbnb, x=\"minimum_nights\", kde=True, bins = 80).set_title('Frequency of listings with respect to the minimum number of nights')\n",
        "sns.set(rc={'figure.figsize':(10,6)})\n",
        "sns.set(style=\"white\")"
      ],
      "metadata": {
        "id": "bwevp1tKp1ck"
      },
      "execution_count": null,
      "outputs": []
    },
    {
      "cell_type": "code",
      "source": [
        "min_night = airbnb[airbnb['minimum_nights'] <= 50]\n",
        "sns.histplot(data=min_night, x=\"minimum_nights\", kde=True, bins = 80).set_title('Frequency of listings with respect to the minimum number of nights<=50')\n",
        "sns.set(rc={'figure.figsize':(10,6)})\n",
        "sns.set(style=\"white\")"
      ],
      "metadata": {
        "id": "JS30nVyWw4qv"
      },
      "execution_count": null,
      "outputs": []
    },
    {
      "cell_type": "markdown",
      "source": [
        "##### 1. Why did you pick the specific chart?"
      ],
      "metadata": {
        "id": "ylSl6qgtp1ck"
      }
    },
    {
      "cell_type": "markdown",
      "source": [
        "A histogram is a traditional visualization tool that counts the number of data that fall into discrete bins to illustrate the distribution of one or more variables. This function can add a smooth curve derived using a kernel density estimate to the statistic computed within each bin to estimate frequency, density, or probability mass."
      ],
      "metadata": {
        "id": "m2xqNkiQp1ck"
      }
    },
    {
      "cell_type": "markdown",
      "source": [
        "##### 2. What is/are the insight(s) found from the chart?"
      ],
      "metadata": {
        "id": "ZWILFDl5p1ck"
      }
    },
    {
      "cell_type": "markdown",
      "source": [
        "In this case, most of the listings have listed out their minimum night record below 10. One unusual thing to note here is the peak in the listing frequency for the minimum night of 30. It is possible that some owners have listed their properties on a monthly rental basis, which may explain this."
      ],
      "metadata": {
        "id": "x-lUsV2mp1ck"
      }
    },
    {
      "cell_type": "markdown",
      "source": [
        "##### 3. Will the gained insights help creating a positive business impact?\n",
        "Are there any insights that lead to negative growth? Justify with specific reason."
      ],
      "metadata": {
        "id": "M7G43BXep1ck"
      }
    },
    {
      "cell_type": "markdown",
      "source": [
        "Answer Here"
      ],
      "metadata": {
        "id": "5wwDJXsLp1cl"
      }
    },
    {
      "cell_type": "markdown",
      "source": [
        "#### Chart - 13 (Textual Data Mining to find out the host's mindset)"
      ],
      "metadata": {
        "id": "Ag9LCva-p1cl"
      }
    },
    {
      "cell_type": "code",
      "source": [
        "# Chart - 13 visualization code\n",
        "text = ' '.join(str(n).lower() for n in airbnb.name)\n",
        "\n",
        "wordcloud = WordCloud(max_words=200, background_color = 'white').generate(text)\n",
        "\n",
        "plt.figure(figsize=(12,10))\n",
        "plt.imshow(wordcloud, interpolation='bilinear')\n",
        "plt.axis('off')\n",
        "plt.show()"
      ],
      "metadata": {
        "id": "EUfxeq9-p1cl"
      },
      "execution_count": null,
      "outputs": []
    },
    {
      "cell_type": "markdown",
      "source": [
        "##### 1. Why did you pick the specific chart?"
      ],
      "metadata": {
        "id": "E6MkPsBcp1cl"
      }
    },
    {
      "cell_type": "markdown",
      "source": [
        "We will be using the Wordcloud library for textual data mining on the name column. Word clouds use frequency counts of the words as input and return a beautiful graphic display of the most frequently occurring words with their size proportional to their relative frequency. We can see a large number of naming patterns used by our hosts for their listings. Using the word cloud as a tool for analysis, we can uncover some interesting trends that may help us understand our hosts' behavior and mindset."
      ],
      "metadata": {
        "id": "V22bRsFWp1cl"
      }
    },
    {
      "cell_type": "markdown",
      "source": [
        "##### 2. What is/are the insight(s) found from the chart?"
      ],
      "metadata": {
        "id": "2cELzS2fp1cl"
      }
    },
    {
      "cell_type": "markdown",
      "source": [
        "\n",
        "\n",
        "1.   Based on the above resultant word cloud, it is evident that hosts are using simple and location-oriented keywords to differentiate their listings. In this case, location is the key indicator, since the words \"Manhattan\" and \"Williamsburg\" are prominently displayed.\n",
        "2.   Furthermore, we can see some adjectives such as \"beautiful\", \"quiet\", \"cozy\", and \"gorgeous\" bedrooms/apartments, which indicates that visitor comfort is a top priority.\n",
        "\n",
        "\n",
        "3.   Several mentions of \"private rooms\" indicate the popularity of this room type in the city.\n",
        "\n",
        "\n",
        "\n"
      ],
      "metadata": {
        "id": "ozQPc2_Ip1cl"
      }
    },
    {
      "cell_type": "markdown",
      "source": [
        "##### 3. Will the gained insights help creating a positive business impact?\n",
        "Are there any insights that lead to negative growth? Justify with specific reason."
      ],
      "metadata": {
        "id": "3MPXvC8up1cl"
      }
    },
    {
      "cell_type": "markdown",
      "source": [
        "Answer Here"
      ],
      "metadata": {
        "id": "GL8l1tdLp1cl"
      }
    },
    {
      "cell_type": "markdown",
      "source": [
        "#### Chart - 14 - Correlation Heatmap"
      ],
      "metadata": {
        "id": "NC_X3p0fY2L0"
      }
    },
    {
      "cell_type": "code",
      "source": [
        "# Correlation Heatmap visualization code\n",
        "# Let us see correletion between the predictions such as location, price, reviews\n",
        "corr=airbnb.corr(method='kendall')\n",
        "plt.figure(figsize=(13,10))\n",
        "sns.heatmap(corr,annot=True).set_title('correlation between location, price,reviews\\n')\n",
        "plt.show()"
      ],
      "metadata": {
        "id": "xyC9zolEZNRQ"
      },
      "execution_count": null,
      "outputs": []
    },
    {
      "cell_type": "markdown",
      "source": [
        "##### 1. Why did you pick the specific chart?"
      ],
      "metadata": {
        "id": "UV0SzAkaZNRQ"
      }
    },
    {
      "cell_type": "markdown",
      "source": [
        "Correlation heatmaps can be used to find potential relationships between variables and to understand the strength of these relationships. In addition, correlation plots can be used to identify outliers and to detect linear and nonlinear relationships."
      ],
      "metadata": {
        "id": "DVPuT8LYZNRQ"
      }
    },
    {
      "cell_type": "markdown",
      "source": [
        "##### 2. What is/are the insight(s) found from the chart?"
      ],
      "metadata": {
        "id": "YPEH6qLeZNRQ"
      }
    },
    {
      "cell_type": "markdown",
      "source": [
        "From above corelation plot it is observed that there is no strong corelation between any factors but calculated_host_listing_count and Availability_365 are weakly corelated."
      ],
      "metadata": {
        "id": "bfSqtnDqZNRR"
      }
    },
    {
      "cell_type": "markdown",
      "source": [
        "#### Chart - 15 - Pair Plot"
      ],
      "metadata": {
        "id": "q29F0dvdveiT"
      }
    },
    {
      "cell_type": "code",
      "source": [
        "# Pair Plot visualization code\n",
        "\n",
        "sns.pairplot(airbnb)"
      ],
      "metadata": {
        "id": "o58-TEIhveiU"
      },
      "execution_count": null,
      "outputs": []
    },
    {
      "cell_type": "markdown",
      "source": [
        "##### 1. Why did you pick the specific chart?"
      ],
      "metadata": {
        "id": "EXh0U9oCveiU"
      }
    },
    {
      "cell_type": "markdown",
      "source": [
        "To plot multiple pairwise bivariate distributions in a dataset.The Seaborn Pairplot allows us to plot pairwise relationships between variables within a dataset. This creates a nice visualisation and helps us understand the data by summarising a large amount of data in a single figure."
      ],
      "metadata": {
        "id": "eMmPjTByveiU"
      }
    },
    {
      "cell_type": "markdown",
      "source": [
        "##### 2. What is/are the insight(s) found from the chart?"
      ],
      "metadata": {
        "id": "22aHeOlLveiV"
      }
    },
    {
      "cell_type": "markdown",
      "source": [
        "Answer Here"
      ],
      "metadata": {
        "id": "uPQ8RGwHveiV"
      }
    },
    {
      "cell_type": "markdown",
      "source": [
        "## **5. Solution to Business Objective**"
      ],
      "metadata": {
        "id": "JcMwzZxoAimU"
      }
    },
    {
      "cell_type": "markdown",
      "source": [
        "#### What do you suggest the client to achieve Business Objective ?\n",
        "Explain Briefly."
      ],
      "metadata": {
        "id": "8G2x9gOozGDZ"
      }
    },
    {
      "cell_type": "markdown",
      "source": [
        "\n",
        "\n",
        "   DataSets have limiting attributes to classify various categories of properties.\n",
        "\n",
        "  Customer experimental and Category wise ratings for Hosts seemed to be missing which could have played an important role in identifying Star Hosts.\n",
        "\n",
        "\n",
        "   A lot of guest information were missing like Purpose of Visit, Number of Guests, which could have given a sense of understanding about the relation of customer footfall and neighbourhood.\n",
        "\n",
        "\n",
        "   Key attributes of properties like Number of Beds, Closets, Bathrooms, Gym, Sauna, Property Age, Distances from nearest Hospitals, Shopping, Complexes, Airport, Station were missing.\n",
        "\n",
        "   Some local tours can be clubbed during longer visits encouraging customers to stay longer and prefer their stays.\n",
        "\n",
        "   Pricing: The analysis reveals a wide range of prices for Airbnb listings in NYC. Factors such as location, property type, and the number of bedrooms significantly impact the listing prices. Hosts should consider these factors when setting competitive prices for their listings.\n",
        "\n",
        "   Popular Neighborhoods: Certain neighborhoods in NYC have higher demand for Airbnb accommodations. Hosts can use this information to focus their efforts on popular areas to attract more bookings.\n",
        "\n",
        "   Room Types: The dataset shows that private rooms and entire homes/apartments are the most common room types listed on Airbnb in NYC. Hosts should consider offering these room types to align with customer preferences.\n",
        "\n",
        "   Availability: The analysis indicates variations in availability throughout the year, with some periods experiencing higher demand and lower availability. Hosts can use this information to adjust their pricing and availability to maximize bookings during peak periods.\n",
        "\n",
        "   Reviews: Customer reviews play a crucial role in the success of Airbnb listings. Analysis of review data can help hosts identify areas for improvement and enhance the guest experience, leading to better reviews and increased bookings.\n",
        "\n",
        "   Amenities: Certain amenities, such as Wi-Fi, air conditioning, and kitchen facilities, are highly valued by guests. Hosts should ensure their listings offer desirable amenities to attract bookings.\n",
        "\n",
        "\n",
        "\n",
        "\n",
        "\n",
        "\n",
        "\n"
      ],
      "metadata": {
        "id": "pASKb0qOza21"
      }
    },
    {
      "cell_type": "markdown",
      "source": [
        "# **Conclusion**"
      ],
      "metadata": {
        "id": "gCX9965dhzqZ"
      }
    },
    {
      "cell_type": "markdown",
      "source": [
        "\n",
        "\n",
        "*   Our top ten hosts have a substantial number of listing,with the top host having over 300.\n",
        "\n",
        "*   The listing are dispersed among the five boroughts of New York City,with Manhattan having the most percentage and Brooklyn and Staten Island having the lowest.\n",
        "\n",
        "\n",
        "*   These were the three distinct room types percentage distribution: Home or apartment as a  whole:52.3% ,private room: 45.5%,shared room:2.2%.\n",
        "\n",
        "*   According to the analysis of client needs,they strongly choose an entire home or apartment.Offering these shared rooms carries the greatest risk of loosing customers.\n",
        "\n",
        "*   Shared rooms are mostly available over other room types and Entire Home/ Apt which has the highest proportion of room share are mostly on the expensive ends.\n",
        "\n",
        "* Bronx and Staten Island are mostly preferred for shorter visits an onwards and others are for slightly longer stays.  \n",
        "\n",
        "*   Manhattan and Brooklyn are the posh areas in New York as there is maximum footfall and properties based on prices and listing are on the higher sides. Manhattan and Brooklyn has the highest number of hosts .\n",
        "\n",
        "*   Manhattan has the highest number of Private rooms and Entire house/Apt. Inculmination followed by Brooklyn.\n",
        "\n",
        "\n",
        "*   Staten Island seems more available for booking throughout the year compared to other neighboiurhoods.\n",
        "\n",
        "\n",
        "\n",
        "\n",
        "\n",
        "\n",
        "\n",
        "\n",
        "\n",
        "\n",
        "\n"
      ],
      "metadata": {
        "id": "Fjb1IsQkh3yE"
      }
    },
    {
      "cell_type": "markdown",
      "source": [
        "### ***Hurrah! You have successfully completed your EDA Capstone Project !!!***"
      ],
      "metadata": {
        "id": "gIfDvo9L0UH2"
      }
    }
  ]
}